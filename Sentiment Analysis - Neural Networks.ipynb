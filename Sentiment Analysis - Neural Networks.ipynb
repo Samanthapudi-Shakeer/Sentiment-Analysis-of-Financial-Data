{
 "cells": [
  {
   "cell_type": "markdown",
   "id": "70b19d67",
   "metadata": {},
   "source": [
    "## Importing Modules"
   ]
  },
  {
   "cell_type": "code",
   "execution_count": 1,
   "id": "3d407ffc",
   "metadata": {},
   "outputs": [],
   "source": [
    "import numpy as np\n",
    "import pandas as pd\n",
    "import re\n",
    "from sklearn.model_selection import train_test_split\n",
    "from sklearn.metrics import accuracy_score, classification_report"
   ]
  },
  {
   "cell_type": "markdown",
   "id": "6e4bab2e",
   "metadata": {},
   "source": [
    "## Loading Dataset and Preprocessing Sentences"
   ]
  },
  {
   "cell_type": "code",
   "execution_count": 2,
   "id": "27c59ca2",
   "metadata": {},
   "outputs": [],
   "source": [
    "# Load data\n",
    "df = pd.read_csv(\"/home/shakeer/Downloads/data.csv\")\n",
    "\n",
    "# Map sentiments to integers\n",
    "sentiment = {'negative': 0, 'neutral': 1, 'positive': 2}\n",
    "df['Sentiment'] = df['Sentiment'].map(sentiment)\n",
    "\n",
    "# Preprocess text\n",
    "def preprocess_text(text):\n",
    "    text = text.lower()  # Convert to lowercase\n",
    "    text = re.sub(r'\\d+', '', text)  # Remove numbers\n",
    "    text = re.sub(r'\\W+', ' ', text)  # Remove special characters\n",
    "    return text\n",
    "\n",
    "df['Sentence'] = df['Sentence'].apply(preprocess_text)\n",
    "\n",
    "# Create vocabulary\n",
    "vocabulary = {}\n",
    "for sentence in df['Sentence']:\n",
    "    for word in sentence.split():\n",
    "        if word not in vocabulary:\n",
    "            vocabulary[word] = len(vocabulary)\n",
    "\n",
    "# Convert sentences to vectors\n",
    "def sentence_to_vector(sentence, vocab):\n",
    "    vector = np.zeros(len(vocab))\n",
    "    for word in sentence.split():\n",
    "        if word in vocab:\n",
    "            vector[vocab[word]] += 1\n",
    "    return vector\n",
    "\n",
    "X = np.array([sentence_to_vector(sentence, vocabulary) for sentence in df['Sentence']])\n",
    "y = df['Sentiment'].values\n",
    "\n",
    "\n",
    "X_train, X_test, y_train, y_test = train_test_split(X, y, test_size=0.2, random_state=42)"
   ]
  },
  {
   "cell_type": "markdown",
   "id": "5191fe51",
   "metadata": {},
   "source": [
    "## Model for Classification"
   ]
  },
  {
   "cell_type": "code",
   "execution_count": 3,
   "id": "b65b301a",
   "metadata": {},
   "outputs": [],
   "source": [
    "class SimpleNN:\n",
    "    def __init__(self, input_size, hidden_size, output_size, learning_rate=0.0001):\n",
    "        self.weights1 = np.random.randn(input_size, hidden_size)\n",
    "        self.bias1 = np.zeros((1, hidden_size))\n",
    "        self.weights2 = np.random.randn(hidden_size, output_size)\n",
    "        self.bias2 = np.zeros((1, output_size))\n",
    "        self.learning_rate = learning_rate\n",
    "\n",
    "    def sigmoid(self, z):\n",
    "        return 1 / (1 + np.exp(-z))\n",
    "\n",
    "    def softmax(self, z):\n",
    "        exp_scores = np.exp(z - np.max(z, axis=1, keepdims=True))\n",
    "        return exp_scores / np.sum(exp_scores, axis=1, keepdims=True)\n",
    "\n",
    "    def forward(self, X):\n",
    "        self.z1 = np.dot(X, self.weights1) + self.bias1\n",
    "        self.a1 = self.sigmoid(self.z1)\n",
    "        self.z2 = np.dot(self.a1, self.weights2) + self.bias2\n",
    "        self.a2 = self.softmax(self.z2)\n",
    "        return self.a2\n",
    "\n",
    "    def backward(self, X, y, output):\n",
    "        m = X.shape[0]\n",
    "        delta2 = output - y\n",
    "        delta1 = np.dot(delta2, self.weights2.T) * (self.a1 * (1 - self.a1))\n",
    "\n",
    "        self.weights2 -= self.learning_rate * np.dot(self.a1.T, delta2) / m\n",
    "        self.bias2 -= self.learning_rate * np.sum(delta2, axis=0, keepdims=True) / m\n",
    "        self.weights1 -= self.learning_rate * np.dot(X.T, delta1) / m\n",
    "        self.bias1 -= self.learning_rate * np.sum(delta1, axis=0, keepdims=True) / m\n",
    "\n",
    "    def train(self, X, y, epochs=1000):\n",
    "        y_encoded = np.eye(np.max(y) + 1)[y]\n",
    "        for epoch in range(epochs):\n",
    "            output = self.forward(X)\n",
    "            self.backward(X, y_encoded, output)\n",
    "            if epoch % 100 == 0:\n",
    "                loss = -np.mean(np.sum(y_encoded * np.log(output + 1e-9), axis=1))\n",
    "                print(f'Epoch {epoch}, Loss: {loss}')\n",
    "\n",
    "    def predict(self, X):\n",
    "        output = self.forward(X)\n",
    "        return np.argmax(output, axis=1)\n"
   ]
  },
  {
   "cell_type": "markdown",
   "id": "052777f4",
   "metadata": {},
   "source": [
    "## Model training and prediction"
   ]
  },
  {
   "cell_type": "code",
   "execution_count": 6,
   "id": "e038019c",
   "metadata": {},
   "outputs": [
    {
     "name": "stdout",
     "output_type": "stream",
     "text": [
      "Epoch 0, Loss: 1.7219829596923204\n",
      "Epoch 100, Loss: 1.7188271126106538\n",
      "Epoch 200, Loss: 1.7157288122452423\n",
      "Epoch 300, Loss: 1.7126870457134338\n",
      "Epoch 400, Loss: 1.7097008082703484\n",
      "Epoch 500, Loss: 1.7067691035616206\n",
      "Epoch 600, Loss: 1.7038909438707834\n",
      "Epoch 700, Loss: 1.7010653503604838\n",
      "Epoch 800, Loss: 1.6982913533067554\n",
      "Epoch 900, Loss: 1.6955679923256812\n",
      "Epoch 1000, Loss: 1.6928943165918344\n",
      "Epoch 1100, Loss: 1.6902693850479806\n",
      "Epoch 1200, Loss: 1.6876922666055572\n",
      "Epoch 1300, Loss: 1.6851620403355485\n",
      "Epoch 1400, Loss: 1.682677795649407\n",
      "Epoch 1500, Loss: 1.6802386324697423\n",
      "Epoch 1600, Loss: 1.6778436613905552\n",
      "Epoch 1700, Loss: 1.6754920038268317\n",
      "Epoch 1800, Loss: 1.6731827921533793\n",
      "Epoch 1900, Loss: 1.670915169832818\n",
      "Accuracy: 0.40718562874251496\n"
     ]
    }
   ],
   "source": [
    "# Initialize model parameters\n",
    "input_size = X_train.shape[1]\n",
    "hidden_size = 20# no of hidden layers.\n",
    "output_size = 3\n",
    "\n",
    "# Create and train model\n",
    "model = SimpleNN(input_size, hidden_size, output_size, learning_rate=0.0001)\n",
    "model.train(X_train, y_train, epochs=2000)\n",
    "\n",
    "# Predict and evaluate\n",
    "y_pred = model.predict(X_test)\n",
    "accuracy = accuracy_score(y_test, y_pred)\n",
    "print(f\"Accuracy: {accuracy}\")"
   ]
  },
  {
   "cell_type": "code",
   "execution_count": null,
   "id": "631946f7",
   "metadata": {},
   "outputs": [],
   "source": []
  }
 ],
 "metadata": {
  "kernelspec": {
   "display_name": "Python 3 (ipykernel)",
   "language": "python",
   "name": "python3"
  },
  "language_info": {
   "codemirror_mode": {
    "name": "ipython",
    "version": 3
   },
   "file_extension": ".py",
   "mimetype": "text/x-python",
   "name": "python",
   "nbconvert_exporter": "python",
   "pygments_lexer": "ipython3",
   "version": "3.10.12"
  }
 },
 "nbformat": 4,
 "nbformat_minor": 5
}
