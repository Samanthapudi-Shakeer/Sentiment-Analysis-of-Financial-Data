{
 "cells": [
  {
   "cell_type": "markdown",
   "id": "e25e1627",
   "metadata": {},
   "source": [
    "#                                   Multinomial Naive Bayes Model"
   ]
  },
  {
   "cell_type": "markdown",
   "id": "37213079",
   "metadata": {},
   "source": [
    "## Importing Modules"
   ]
  },
  {
   "cell_type": "code",
   "execution_count": 1,
   "id": "754056e8",
   "metadata": {},
   "outputs": [
    {
     "name": "stderr",
     "output_type": "stream",
     "text": [
      "/usr/lib/python3/dist-packages/scipy/__init__.py:146: UserWarning: A NumPy version >=1.17.3 and <1.25.0 is required for this version of SciPy (detected version 1.26.4\n",
      "  warnings.warn(f\"A NumPy version >={np_minversion} and <{np_maxversion}\"\n"
     ]
    }
   ],
   "source": [
    "import matplotlib.pyplot as plt\n",
    "import plotly.express as px\n",
    "import numpy as np\n",
    "import nltk\n",
    "import pandas as pd\n",
    "from nltk.corpus import stopwords\n",
    "from nltk.stem import PorterStemmer\n",
    "#for sklearn model\n",
    "from sklearn.feature_extraction.text import TfidfVectorizer\n",
    "from sklearn.naive_bayes import MultinomialNB\n",
    "from sklearn.metrics import accuracy_score, confusion_matrix, classification_report"
   ]
  },
  {
   "cell_type": "markdown",
   "id": "c200f5ec",
   "metadata": {},
   "source": [
    "## Load Dataset into Dataframe"
   ]
  },
  {
   "cell_type": "code",
   "execution_count": 2,
   "id": "8232d41c",
   "metadata": {},
   "outputs": [],
   "source": [
    "df= pd.read_csv(\"/home/shakeer/Downloads/data.csv\")"
   ]
  },
  {
   "cell_type": "markdown",
   "id": "437b53e0",
   "metadata": {},
   "source": [
    "## Exploring Data"
   ]
  },
  {
   "cell_type": "code",
   "execution_count": 3,
   "id": "d4541177",
   "metadata": {},
   "outputs": [
    {
     "name": "stdout",
     "output_type": "stream",
     "text": [
      "<class 'pandas.core.frame.DataFrame'>\n",
      "RangeIndex: 5842 entries, 0 to 5841\n",
      "Data columns (total 2 columns):\n",
      " #   Column     Non-Null Count  Dtype \n",
      "---  ------     --------------  ----- \n",
      " 0   Sentence   5842 non-null   object\n",
      " 1   Sentiment  5842 non-null   object\n",
      "dtypes: object(2)\n",
      "memory usage: 91.4+ KB\n"
     ]
    }
   ],
   "source": [
    "df.info()"
   ]
  },
  {
   "cell_type": "code",
   "execution_count": 4,
   "id": "9c36a1f6",
   "metadata": {},
   "outputs": [
    {
     "data": {
      "text/plain": [
       "Index(['Sentence', 'Sentiment'], dtype='object')"
      ]
     },
     "execution_count": 4,
     "metadata": {},
     "output_type": "execute_result"
    }
   ],
   "source": [
    "df.columns"
   ]
  },
  {
   "cell_type": "code",
   "execution_count": 5,
   "id": "ff813451",
   "metadata": {},
   "outputs": [
    {
     "data": {
      "text/html": [
       "<div>\n",
       "<style scoped>\n",
       "    .dataframe tbody tr th:only-of-type {\n",
       "        vertical-align: middle;\n",
       "    }\n",
       "\n",
       "    .dataframe tbody tr th {\n",
       "        vertical-align: top;\n",
       "    }\n",
       "\n",
       "    .dataframe thead th {\n",
       "        text-align: right;\n",
       "    }\n",
       "</style>\n",
       "<table border=\"1\" class=\"dataframe\">\n",
       "  <thead>\n",
       "    <tr style=\"text-align: right;\">\n",
       "      <th></th>\n",
       "      <th>Sentence</th>\n",
       "      <th>Sentiment</th>\n",
       "    </tr>\n",
       "  </thead>\n",
       "  <tbody>\n",
       "    <tr>\n",
       "      <th>count</th>\n",
       "      <td>5842</td>\n",
       "      <td>5842</td>\n",
       "    </tr>\n",
       "    <tr>\n",
       "      <th>unique</th>\n",
       "      <td>5322</td>\n",
       "      <td>3</td>\n",
       "    </tr>\n",
       "    <tr>\n",
       "      <th>top</th>\n",
       "      <td>Operating loss totalled EUR 0.9 mn , down from...</td>\n",
       "      <td>neutral</td>\n",
       "    </tr>\n",
       "    <tr>\n",
       "      <th>freq</th>\n",
       "      <td>2</td>\n",
       "      <td>3130</td>\n",
       "    </tr>\n",
       "  </tbody>\n",
       "</table>\n",
       "</div>"
      ],
      "text/plain": [
       "                                                 Sentence Sentiment\n",
       "count                                                5842      5842\n",
       "unique                                               5322         3\n",
       "top     Operating loss totalled EUR 0.9 mn , down from...   neutral\n",
       "freq                                                    2      3130"
      ]
     },
     "execution_count": 5,
     "metadata": {},
     "output_type": "execute_result"
    }
   ],
   "source": [
    "df.describe()"
   ]
  },
  {
   "cell_type": "markdown",
   "id": "1ce1cf2b",
   "metadata": {},
   "source": [
    "## Visualizing the Sentence and Sentiment Data"
   ]
  },
  {
   "cell_type": "code",
   "execution_count": 6,
   "id": "0af26053",
   "metadata": {},
   "outputs": [
    {
     "data": {
      "image/png": "[encoded data removed]",
      "text/plain": [
       "<Figure size 720x360 with 1 Axes>"
      ]
     },
     "metadata": {
      "needs_background": "light"
     },
     "output_type": "display_data"
    }
   ],
   "source": [
    "sentiment_counts = df['Sentiment'].value_counts()\n",
    "plt.figure(figsize=(10,5))\n",
    "sentiment_counts.plot(kind='bar', color=['blue', 'green', 'red'])  #line', 'bar', 'barh', 'kde', 'density', 'area', 'hist', 'box', 'pie', 'scatter', 'hexbin\n",
    "plt.title('Sentiment Distribution over (~, +ve, -ve)')\n",
    "plt.xlabel('Sentiment',labelpad=20, fontsize=18)\n",
    "plt.ylabel('Count',labelpad=20, fontsize=18)\n",
    "plt.yticks(rotation=0)\n",
    "plt.xticks(rotation=0)\n",
    "plt.show()"
   ]
  },
  {
   "cell_type": "code",
   "execution_count": 7,
   "id": "cfe87895",
   "metadata": {},
   "outputs": [
    {
     "data": {
      "text/plain": [
       "Sentence     0.0\n",
       "Sentiment    0.0\n",
       "dtype: float64"
      ]
     },
     "execution_count": 7,
     "metadata": {},
     "output_type": "execute_result"
    }
   ],
   "source": [
    "round((df.isnull().sum()/df.shape[0])*100) #check null values / missing values"
   ]
  },
  {
   "cell_type": "code",
   "execution_count": 8,
   "id": "ec87937f",
   "metadata": {},
   "outputs": [
    {
     "name": "stdout",
     "output_type": "stream",
     "text": [
      "No of Rows in Original Dataset:  5842\n"
     ]
    }
   ],
   "source": [
    "print(\"No of Rows in Original Dataset: \",len(df)) "
   ]
  },
  {
   "cell_type": "markdown",
   "id": "9018d307",
   "metadata": {},
   "source": [
    "## Removal of duplicate rows"
   ]
  },
  {
   "cell_type": "code",
   "execution_count": 9,
   "id": "21030e1f",
   "metadata": {},
   "outputs": [
    {
     "name": "stdout",
     "output_type": "stream",
     "text": [
      "Duplicate Rows:\n",
      "                                               Sentence Sentiment\n",
      "1825  Proha Plc ( Euronext :7327 ) announced today (...   neutral\n",
      "1859  SSH Communications Security Corporation is hea...   neutral\n",
      "2672  Ahlstrom 's share is quoted on the NASDAQ OMX ...   neutral\n",
      "3272  The company serves customers in various indust...   neutral\n",
      "3986  The issuer is solely responsible for the conte...   neutral\n",
      "5342  The report profiles 614 companies including ma...   neutral\n"
     ]
    }
   ],
   "source": [
    "duplicate_rows = df[df.duplicated()]\n",
    "print(\"Duplicate Rows:\")\n",
    "print(duplicate_rows)\n",
    "#print(df['Sentiment'][234])"
   ]
  },
  {
   "cell_type": "code",
   "execution_count": 10,
   "id": "3390f237",
   "metadata": {},
   "outputs": [],
   "source": [
    "df.drop_duplicates(inplace=True)"
   ]
  },
  {
   "cell_type": "code",
   "execution_count": 11,
   "id": "f9374aed",
   "metadata": {},
   "outputs": [
    {
     "name": "stdout",
     "output_type": "stream",
     "text": [
      "No of Rows after dropping duplicate rows :  5836\n"
     ]
    }
   ],
   "source": [
    "print(\"No of Rows after dropping duplicate rows : \",len(df))"
   ]
  },
  {
   "cell_type": "code",
   "execution_count": 12,
   "id": "d386f09d",
   "metadata": {},
   "outputs": [],
   "source": [
    "sentiment = {\n",
    "    'negative':0,\n",
    "    'neutral' :1,\n",
    "    'positive':2\n",
    "}"
   ]
  },
  {
   "cell_type": "code",
   "execution_count": 13,
   "id": "58ad6685",
   "metadata": {},
   "outputs": [
    {
     "data": {
      "text/html": [
       "<div>\n",
       "<style scoped>\n",
       "    .dataframe tbody tr th:only-of-type {\n",
       "        vertical-align: middle;\n",
       "    }\n",
       "\n",
       "    .dataframe tbody tr th {\n",
       "        vertical-align: top;\n",
       "    }\n",
       "\n",
       "    .dataframe thead th {\n",
       "        text-align: right;\n",
       "    }\n",
       "</style>\n",
       "<table border=\"1\" class=\"dataframe\">\n",
       "  <thead>\n",
       "    <tr style=\"text-align: right;\">\n",
       "      <th></th>\n",
       "      <th>Sentence</th>\n",
       "      <th>Sentiment</th>\n",
       "    </tr>\n",
       "  </thead>\n",
       "  <tbody>\n",
       "    <tr>\n",
       "      <th>0</th>\n",
       "      <td>The GeoSolutions technology will leverage Bene...</td>\n",
       "      <td>2</td>\n",
       "    </tr>\n",
       "    <tr>\n",
       "      <th>1</th>\n",
       "      <td>$ESI on lows, down $1.50 to $2.50 BK a real po...</td>\n",
       "      <td>0</td>\n",
       "    </tr>\n",
       "    <tr>\n",
       "      <th>2</th>\n",
       "      <td>For the last quarter of 2010 , Componenta 's n...</td>\n",
       "      <td>2</td>\n",
       "    </tr>\n",
       "    <tr>\n",
       "      <th>3</th>\n",
       "      <td>According to the Finnish-Russian Chamber of Co...</td>\n",
       "      <td>1</td>\n",
       "    </tr>\n",
       "    <tr>\n",
       "      <th>4</th>\n",
       "      <td>The Swedish buyout firm has sold its remaining...</td>\n",
       "      <td>1</td>\n",
       "    </tr>\n",
       "  </tbody>\n",
       "</table>\n",
       "</div>"
      ],
      "text/plain": [
       "                                            Sentence  Sentiment\n",
       "0  The GeoSolutions technology will leverage Bene...          2\n",
       "1  $ESI on lows, down $1.50 to $2.50 BK a real po...          0\n",
       "2  For the last quarter of 2010 , Componenta 's n...          2\n",
       "3  According to the Finnish-Russian Chamber of Co...          1\n",
       "4  The Swedish buyout firm has sold its remaining...          1"
      ]
     },
     "execution_count": 13,
     "metadata": {},
     "output_type": "execute_result"
    }
   ],
   "source": [
    "df['Sentiment'] = df['Sentiment'].apply(lambda x:sentiment[x])\n",
    "df.head()"
   ]
  },
  {
   "cell_type": "markdown",
   "id": "d91e2d46",
   "metadata": {},
   "source": [
    "## Splitting Train and Test data from Dataset"
   ]
  },
  {
   "cell_type": "code",
   "execution_count": 14,
   "id": "a22e6fc4",
   "metadata": {},
   "outputs": [],
   "source": [
    "from sklearn.model_selection import train_test_split\n",
    "from sklearn.metrics import accuracy_score, recall_score, precision_score"
   ]
  },
  {
   "cell_type": "code",
   "execution_count": 15,
   "id": "60f1904e",
   "metadata": {},
   "outputs": [
    {
     "data": {
      "text/plain": [
       "((4668,), (1168,), (4668,), (1168,))"
      ]
     },
     "execution_count": 15,
     "metadata": {},
     "output_type": "execute_result"
    }
   ],
   "source": [
    "X_train,X_test,y_train,y_test = train_test_split(df['Sentence'],df['Sentiment'],test_size =0.2,stratify=df['Sentiment'],random_state=42)\n",
    "X_train.shape, X_test.shape, y_train.shape,y_test.shape"
   ]
  },
  {
   "cell_type": "markdown",
   "id": "75e32c0c",
   "metadata": {},
   "source": [
    "## Setting Vocabulary from Training Set"
   ]
  },
  {
   "cell_type": "code",
   "execution_count": 16,
   "id": "ff03c1b1",
   "metadata": {},
   "outputs": [],
   "source": [
    "vocab = set()\n",
    "for text in X_train:\n",
    "    vocab.update(text.split())\n",
    "vocab = list(vocab)\n",
    "#print(vocab)"
   ]
  },
  {
   "attachments": {
    "image-2.png": {
     "image/png": "[encoded data removed]"
    }
   },
   "cell_type": "markdown",
   "id": "82c862bf",
   "metadata": {},
   "source": [
    "![image-2.png](attachment:image-2.png)"
   ]
  },
  {
   "cell_type": "markdown",
   "id": "9a6325aa",
   "metadata": {},
   "source": [
    "## Multinomial Naive Bayes Model"
   ]
  },
  {
   "cell_type": "code",
   "execution_count": 17,
   "id": "9cf02f9b",
   "metadata": {},
   "outputs": [],
   "source": [
    "class NaiveBayesClassifier:\n",
    "    def __init__(self, classes):\n",
    "        self.classes = classes\n",
    "        self.class_priors = {}\n",
    "        self.word_counts = {}\n",
    "        self.word_probs = {}\n",
    "        self.vocab = []\n",
    "\n",
    "    def preprocess_text(self, text): # Lower text and remove stopwords\n",
    "        stop_words = set(stopwords.words('english'))\n",
    "        ps = PorterStemmer()\n",
    "        words = nltk.word_tokenize(text.lower())\n",
    "        words = [ps.stem(word) for word in words if word.isalpha() and word not in stop_words]\n",
    "        return words\n",
    "\n",
    "    def fit(self, X, y, vocab):\n",
    "        self.vocab = vocab\n",
    "        vocab_size = len(vocab)\n",
    "\n",
    "        self.word_counts = {c: np.zeros(vocab_size) for c in self.classes} #initialize to 0's\n",
    "        self.word_probs = {c: np.zeros(vocab_size) for c in self.classes}  #initialize to 0's\n",
    "\n",
    "        for c in self.classes:\n",
    "            total_count = np.sum(y == c)\n",
    "            self.class_priors[c] = total_count / len(y) # setting class priors P(C'k)\n",
    "            class_texts = X[y == c]\n",
    "            class_words = []\n",
    "            for text in class_texts:\n",
    "                class_words.extend(self.preprocess_text(text))\n",
    "            for word in class_words:\n",
    "                if word in vocab:\n",
    "                    self.word_counts[c][vocab.index(word)] += 1\n",
    "\n",
    "            total_words = np.sum(self.word_counts[c])\n",
    "            \n",
    "            self.word_probs[c] = (self.word_counts[c] + 1) / (total_words + (vocab_size)) # Laplace Smoothing - 0 p issue\n",
    "\n",
    "    def predict_proba(self, X):\n",
    "        probas = []\n",
    "        for text in X:\n",
    "            words = self.preprocess_text(text)\n",
    "            scores = {}\n",
    "            for c in self.classes:\n",
    "                log_prob = np.log(self.class_priors[c])\n",
    "                for word in words:\n",
    "                    if word in self.vocab:\n",
    "                        word_idx = self.vocab.index(word)\n",
    "                        log_prob += np.log(self.word_probs[c][word_idx])\n",
    "                scores[c] = log_prob\n",
    "            exp_scores = {c: np.exp(score) for c, score in scores.items()}\n",
    "            sum_exp_scores = sum(exp_scores.values())\n",
    "            probas.append({c: exp_scores[c] / sum_exp_scores for c in self.classes})\n",
    "        return probas\n",
    "\n",
    "# Initialize model and train the classifier\n",
    "model = NaiveBayesClassifier(classes=[0,1,2])\n",
    "model.fit(X_train, y_train, vocab)"
   ]
  },
  {
   "cell_type": "code",
   "execution_count": 18,
   "id": "d9212d96",
   "metadata": {},
   "outputs": [
    {
     "name": "stdout",
     "output_type": "stream",
     "text": [
      "Enter Some Text : investing more gives more return\n",
      "Predicted Probabilities for \"investing more gives more return\": {0: 0.0033410061999481857, 1: 0.8726975583002309, 2: 0.12396143549982093}\n",
      "{0: 0.0033410061999481857, 1: 0.8726975583002309, 2: 0.12396143549982093} \n",
      "\n",
      "Neutral : 1\n",
      "0.8726975583002309\n",
      "0.8726975583002309\n"
     ]
    }
   ],
   "source": [
    "#new_text = \"Effective portfolio diversification can mitigate risk and enhance long-term returns\"\n",
    "new_text = input(\"Enter Some Text : \");\n",
    "probas = model.predict_proba([new_text])[0]\n",
    "print(f'Predicted Probabilities for \"{new_text}\": {probas}')\n",
    "print(probas ,'\\n')\n",
    "if(probas[0]>probas[1] and probas[0]>probas[2]):\n",
    "    print(\"Negative : 0\")\n",
    "    print(probas[0])\n",
    "elif(probas[1]>probas[2]):\n",
    "    print(\"Neutral : 1\")\n",
    "    print(probas[1])\n",
    "else:\n",
    "    print(\"Positive : 2\")\n",
    "    print(probas[2])\n",
    "print(max(probas.values()))"
   ]
  },
  {
   "cell_type": "markdown",
   "id": "0f377925",
   "metadata": {},
   "source": [
    "## Creating using Sklearn Model "
   ]
  },
  {
   "cell_type": "code",
   "execution_count": 19,
   "id": "b7035db6",
   "metadata": {},
   "outputs": [],
   "source": [
    "from sklearn.naive_bayes import MultinomialNB\n",
    "import seaborn as sns"
   ]
  },
  {
   "cell_type": "code",
   "execution_count": 20,
   "id": "5f6f8199",
   "metadata": {},
   "outputs": [],
   "source": [
    "vectorizer = TfidfVectorizer()\n",
    "X_train_tfidf = vectorizer.fit_transform(X_train)\n",
    "X_test_tfidf = vectorizer.transform(X_test)"
   ]
  },
  {
   "cell_type": "code",
   "execution_count": 21,
   "id": "3af0b242",
   "metadata": {},
   "outputs": [
    {
     "name": "stdout",
     "output_type": "stream",
     "text": [
      "Accuracy:0.6532534246575342\n",
      "Classification Report:\n",
      "              precision    recall  f1-score   support\n",
      "\n",
      "           0       1.00      0.02      0.05       172\n",
      "           1       0.63      0.97      0.77       625\n",
      "           2       0.74      0.40      0.52       371\n",
      "\n",
      "    accuracy                           0.65      1168\n",
      "   macro avg       0.79      0.47      0.45      1168\n",
      "weighted avg       0.72      0.65      0.58      1168\n",
      "\n"
     ]
    },
    {
     "data": {
      "image/png": "[encoded data removed]",
      "text/plain": [
       "<Figure size 576x432 with 2 Axes>"
      ]
     },
     "metadata": {
      "needs_background": "light"
     },
     "output_type": "display_data"
    }
   ],
   "source": [
    "# Train a Naive Bayes classifier\n",
    "model = MultinomialNB()\n",
    "model.fit(X_train_tfidf, y_train)\n",
    "\n",
    "# Predict on the test set\n",
    "y_pred = model.predict(X_test_tfidf)\n",
    "\n",
    "# Evaluate the model\n",
    "accuracy = accuracy_score(y_test, y_pred)\n",
    "print(f\"Accuracy:{accuracy}\")\n",
    "print(\"Classification Report:\")\n",
    "print(classification_report(y_test, y_pred))\n",
    "\n",
    "# Confusion Matrix\n",
    "cm = confusion_matrix(y_test, y_pred)\n",
    "plt.figure(figsize=(8, 6))\n",
    "sns.heatmap(cm, annot=True, fmt='d', cmap='Blues', xticklabels=sentiment.keys(), yticklabels=sentiment.keys())\n",
    "plt.title('Confusion Matrix')\n",
    "plt.xlabel('Predicted')\n",
    "plt.ylabel('Actual')\n",
    "plt.show()"
   ]
  },
  {
   "cell_type": "code",
   "execution_count": null,
   "id": "937740c3",
   "metadata": {},
   "outputs": [],
   "source": []
  }
 ],
 "metadata": {
  "kernelspec": {
   "display_name": "Python 3 (ipykernel)",
   "language": "python",
   "name": "python3"
  },
  "language_info": {
   "codemirror_mode": {
    "name": "ipython",
    "version": 3
   },
   "file_extension": ".py",
   "mimetype": "text/x-python",
   "name": "python",
   "nbconvert_exporter": "python",
   "pygments_lexer": "ipython3",
   "version": "3.10.12"
  }
 },
 "nbformat": 4,
 "nbformat_minor": 5
}
